{
 "cells": [
  {
   "cell_type": "code",
   "execution_count": 22,
   "metadata": {},
   "outputs": [],
   "source": [
    "%matplotlib inline\n",
    "import intake\n",
    "catalog = intake.open_catalog(\"./catalog.yml\")\n",
    "open_data = catalog.la_open_data"
   ]
  },
  {
   "cell_type": "code",
   "execution_count": 15,
   "metadata": {},
   "outputs": [
    {
     "data": {
      "text/html": [
       "\n",
       "        <h3>Small Cell Locations</h3>\n",
       "        <div style=\"display: flex; flex-direction: row; flex-wrap: wrap; height:256px\">\n",
       "            <div style=\"flex: 0 0 384px; padding-right: 24px\">\n",
       "                \n",
       "            <p style=\"margin-bottom: 0.5em\"><b>ID:</b><a href=\"https://data.lacity.org/api/views/3nrm-mq6k\"> https://data.lacity.org/api/views/3nrm-mq6k</a></p>\n",
       "            <p style=\"margin-bottom: 0.5em\"><b>Issued:</b> 2018-04-25</p>\n",
       "            <p style=\"margin-bottom: 0.5em\"><b>Last Modified:</b> 2019-08-29</p>\n",
       "            <p style=\"margin-bottom: 0.5em\"><b>Publisher:</b> data.lacity.org</p>\n",
       "            <p style=\"margin-bottom: 0.5em\"><b>License:</b> unknown</p>\n",
       "            <p style=\"margin-bottom: 0.5em\"><b>Download URL:</b><a href=\"https://data.lacity.org/api/geospatial/3nrm-mq6k?method=export&format=Shapefile\"> https://data.lacity.org/api/geospatial/3nrm-mq6k?method=export&format=Shapefile</a></p>\n",
       "        \n",
       "            </div>\n",
       "            <div style=\"flex: 1 1 0; height: 100%; overflow: auto\">\n",
       "                <p>\n",
       "                    This dataset contains the small cell locations that are attached to streetlight poles citywide.  \n",
       "\n",
       "A small cell node is a low-powered cellular radio access node that cellular operators use to extend their service coverage and/or increase their network capacity.  \n",
       "\n",
       "These are smaller and less powerful than traditional macrocell towers or rooftop installations that are served by a high power cell site and utilize a tower, antenna or mast.\n",
       "                </p>\n",
       "            </div>\n",
       "        </div>\n",
       "        "
      ],
      "text/plain": [
       "https://data.lacity.org/api/views/3nrm-mq6k\n",
       "Small Cell Locations\n",
       "This dataset contains the small cell locations that are attached to streetlight poles citywide.  \n",
       "\n",
       "A small cell node is a low-powered cellular radio access node that cellular operators use to extend their service coverage and/or increase their network capacity.  \n",
       "\n",
       "These are smaller and less powerful than traditional macrocell towers or rooftop installations that are served by a high power cell site and utilize a tower, antenna or mast."
      ]
     },
     "metadata": {},
     "output_type": "display_data"
    },
    {
     "data": {
      "text/html": [
       "\n",
       "        <h3>Bureau Of Street Lighting (BSL) - Performance Metrics</h3>\n",
       "        <div style=\"display: flex; flex-direction: row; flex-wrap: wrap; height:256px\">\n",
       "            <div style=\"flex: 0 0 384px; padding-right: 24px\">\n",
       "                \n",
       "            <p style=\"margin-bottom: 0.5em\"><b>ID:</b><a href=\"https://data.lacity.org/api/views/5y5q-d9ew\"> https://data.lacity.org/api/views/5y5q-d9ew</a></p>\n",
       "            <p style=\"margin-bottom: 0.5em\"><b>Issued:</b> 2018-01-31</p>\n",
       "            <p style=\"margin-bottom: 0.5em\"><b>Last Modified:</b> 2018-01-31</p>\n",
       "            <p style=\"margin-bottom: 0.5em\"><b>Publisher:</b> data.lacity.org</p>\n",
       "            <p style=\"margin-bottom: 0.5em\"><b>License:</b> http://creativecommons.org/publicdomain/zero/1.0/legalcode</p>\n",
       "            <p style=\"margin-bottom: 0.5em\"><b>Download URL:</b><a href=\"https://data.lacity.org/api/views/5y5q-d9ew/rows.csv?accessType=DOWNLOAD\"> https://data.lacity.org/api/views/5y5q-d9ew/rows.csv?accessType=DOWNLOAD</a></p>\n",
       "        \n",
       "            </div>\n",
       "            <div style=\"flex: 1 1 0; height: 100%; overflow: auto\">\n",
       "                <p>\n",
       "                    This dataset contains metrics that measure the operational performance of the Bureau of Street Lighting. These metrics are used on a regular basis by the department and the Mayor to evaluate progress and inform decision making. Performance management forms the foundation of a data-driven culture of innovation and excellence in the City of Los Angeles.\n",
       "                </p>\n",
       "            </div>\n",
       "        </div>\n",
       "        "
      ],
      "text/plain": [
       "https://data.lacity.org/api/views/5y5q-d9ew\n",
       "Bureau Of Street Lighting (BSL) - Performance Metrics\n",
       "This dataset contains metrics that measure the operational performance of the Bureau of Street Lighting. These metrics are used on a regular basis by the department and the Mayor to evaluate progress and inform decision making. Performance management forms the foundation of a data-driven culture of innovation and excellence in the City of Los Angeles."
      ]
     },
     "metadata": {},
     "output_type": "display_data"
    },
    {
     "data": {
      "text/html": [
       "\n",
       "        <h3>Business Source Center Program Performance Objectives (Q3:  04/18 - 12/18)</h3>\n",
       "        <div style=\"display: flex; flex-direction: row; flex-wrap: wrap; height:256px\">\n",
       "            <div style=\"flex: 0 0 384px; padding-right: 24px\">\n",
       "                \n",
       "            <p style=\"margin-bottom: 0.5em\"><b>ID:</b><a href=\"https://data.lacity.org/api/views/6inw-egb2\"> https://data.lacity.org/api/views/6inw-egb2</a></p>\n",
       "            <p style=\"margin-bottom: 0.5em\"><b>Issued:</b> 2019-07-18</p>\n",
       "            <p style=\"margin-bottom: 0.5em\"><b>Last Modified:</b> 2019-08-23</p>\n",
       "            <p style=\"margin-bottom: 0.5em\"><b>Publisher:</b> data.lacity.org</p>\n",
       "            <p style=\"margin-bottom: 0.5em\"><b>License:</b> unknown</p>\n",
       "            <p style=\"margin-bottom: 0.5em\"><b>Download URL:</b><a href=\"https://data.lacity.org/api/views/6inw-egb2/rows.csv?accessType=DOWNLOAD\"> https://data.lacity.org/api/views/6inw-egb2/rows.csv?accessType=DOWNLOAD</a></p>\n",
       "        \n",
       "            </div>\n",
       "            <div style=\"flex: 1 1 0; height: 100%; overflow: auto\">\n",
       "                <p>\n",
       "                    The Business Source Center (BSC) Program, funded through the Community Development Block Grant (CDBG), provides entrepreneurial training, technical assistance and access to capital for micro-enterprise and start-up businesses.  The program promotes job creation for Angelenos by providing entrepreneurs and small business the support they need to start and/or expand their business.  Goals are established through United States Department of Housing and Urban Development (HUD) guidelines and local measures.\n",
       "                </p>\n",
       "            </div>\n",
       "        </div>\n",
       "        "
      ],
      "text/plain": [
       "https://data.lacity.org/api/views/6inw-egb2\n",
       "Business Source Center Program Performance Objectives (Q3:  04/18 - 12/18)\n",
       "The Business Source Center (BSC) Program, funded through the Community Development Block Grant (CDBG), provides entrepreneurial training, technical assistance and access to capital for micro-enterprise and start-up businesses.  The program promotes job creation for Angelenos by providing entrepreneurs and small business the support they need to start and/or expand their business.  Goals are established through United States Department of Housing and Urban Development (HUD) guidelines and local measures."
      ]
     },
     "metadata": {},
     "output_type": "display_data"
    },
    {
     "data": {
      "text/html": [
       "\n",
       "        <h3>Business Source Center Program Performance Objectives (Q4:  04/17 - 03/18)</h3>\n",
       "        <div style=\"display: flex; flex-direction: row; flex-wrap: wrap; height:256px\">\n",
       "            <div style=\"flex: 0 0 384px; padding-right: 24px\">\n",
       "                \n",
       "            <p style=\"margin-bottom: 0.5em\"><b>ID:</b><a href=\"https://data.lacity.org/api/views/b2qw-5tjn\"> https://data.lacity.org/api/views/b2qw-5tjn</a></p>\n",
       "            <p style=\"margin-bottom: 0.5em\"><b>Issued:</b> 2019-07-18</p>\n",
       "            <p style=\"margin-bottom: 0.5em\"><b>Last Modified:</b> 2019-08-23</p>\n",
       "            <p style=\"margin-bottom: 0.5em\"><b>Publisher:</b> data.lacity.org</p>\n",
       "            <p style=\"margin-bottom: 0.5em\"><b>License:</b> unknown</p>\n",
       "            <p style=\"margin-bottom: 0.5em\"><b>Download URL:</b><a href=\"https://data.lacity.org/api/views/b2qw-5tjn/rows.csv?accessType=DOWNLOAD\"> https://data.lacity.org/api/views/b2qw-5tjn/rows.csv?accessType=DOWNLOAD</a></p>\n",
       "        \n",
       "            </div>\n",
       "            <div style=\"flex: 1 1 0; height: 100%; overflow: auto\">\n",
       "                <p>\n",
       "                    The Business Source Center (BSC) Program, funded through the Community Development Block Grant (CDBG), provides entrepreneurial training, technical assistance and access to capital for micro-enterprise and start-up businesses.  The program promotes job creation for Angelenos by providing entrepreneurs and small business the support they need to start and/or expand their business.  Goals are established through United States Department of Housing and Urban Development (HUD) guidelines and local measures.\n",
       "                </p>\n",
       "            </div>\n",
       "        </div>\n",
       "        "
      ],
      "text/plain": [
       "https://data.lacity.org/api/views/b2qw-5tjn\n",
       "Business Source Center Program Performance Objectives (Q4:  04/17 - 03/18)\n",
       "The Business Source Center (BSC) Program, funded through the Community Development Block Grant (CDBG), provides entrepreneurial training, technical assistance and access to capital for micro-enterprise and start-up businesses.  The program promotes job creation for Angelenos by providing entrepreneurs and small business the support they need to start and/or expand their business.  Goals are established through United States Department of Housing and Urban Development (HUD) guidelines and local measures."
      ]
     },
     "metadata": {},
     "output_type": "display_data"
    },
    {
     "data": {
      "text/html": [
       "\n",
       "        <h3>Business Source Center Program Performance Objectives (Q4:  04/18 - 03/19)</h3>\n",
       "        <div style=\"display: flex; flex-direction: row; flex-wrap: wrap; height:256px\">\n",
       "            <div style=\"flex: 0 0 384px; padding-right: 24px\">\n",
       "                \n",
       "            <p style=\"margin-bottom: 0.5em\"><b>ID:</b><a href=\"https://data.lacity.org/api/views/c9di-tijr\"> https://data.lacity.org/api/views/c9di-tijr</a></p>\n",
       "            <p style=\"margin-bottom: 0.5em\"><b>Issued:</b> 2019-07-18</p>\n",
       "            <p style=\"margin-bottom: 0.5em\"><b>Last Modified:</b> 2019-08-23</p>\n",
       "            <p style=\"margin-bottom: 0.5em\"><b>Publisher:</b> data.lacity.org</p>\n",
       "            <p style=\"margin-bottom: 0.5em\"><b>License:</b> unknown</p>\n",
       "            <p style=\"margin-bottom: 0.5em\"><b>Download URL:</b><a href=\"https://data.lacity.org/api/views/c9di-tijr/rows.csv?accessType=DOWNLOAD\"> https://data.lacity.org/api/views/c9di-tijr/rows.csv?accessType=DOWNLOAD</a></p>\n",
       "        \n",
       "            </div>\n",
       "            <div style=\"flex: 1 1 0; height: 100%; overflow: auto\">\n",
       "                <p>\n",
       "                    The Business Source Center (BSC) Program, funded through the Community Development Block Grant (CDBG), provides entrepreneurial training, technical assistance and access to capital for micro-enterprise and start-up businesses.  The program promotes job creation for Angelenos by providing entrepreneurs and small business the support they need to start and/or expand their business.  Goals are established through United States Department of Housing and Urban Development (HUD) guidelines and local measures.\n",
       "                </p>\n",
       "            </div>\n",
       "        </div>\n",
       "        "
      ],
      "text/plain": [
       "https://data.lacity.org/api/views/c9di-tijr\n",
       "Business Source Center Program Performance Objectives (Q4:  04/18 - 03/19)\n",
       "The Business Source Center (BSC) Program, funded through the Community Development Block Grant (CDBG), provides entrepreneurial training, technical assistance and access to capital for micro-enterprise and start-up businesses.  The program promotes job creation for Angelenos by providing entrepreneurs and small business the support they need to start and/or expand their business.  Goals are established through United States Department of Housing and Urban Development (HUD) guidelines and local measures."
      ]
     },
     "metadata": {},
     "output_type": "display_data"
    },
    {
     "data": {
      "text/html": [
       "\n",
       "        <h3>Business Source Center Program Performance Objectives (Q5:  04/18 - 06/19)</h3>\n",
       "        <div style=\"display: flex; flex-direction: row; flex-wrap: wrap; height:256px\">\n",
       "            <div style=\"flex: 0 0 384px; padding-right: 24px\">\n",
       "                \n",
       "            <p style=\"margin-bottom: 0.5em\"><b>ID:</b><a href=\"https://data.lacity.org/api/views/e2zz-y53s\"> https://data.lacity.org/api/views/e2zz-y53s</a></p>\n",
       "            <p style=\"margin-bottom: 0.5em\"><b>Issued:</b> 2019-07-18</p>\n",
       "            <p style=\"margin-bottom: 0.5em\"><b>Last Modified:</b> 2019-08-23</p>\n",
       "            <p style=\"margin-bottom: 0.5em\"><b>Publisher:</b> data.lacity.org</p>\n",
       "            <p style=\"margin-bottom: 0.5em\"><b>License:</b> unknown</p>\n",
       "            <p style=\"margin-bottom: 0.5em\"><b>Download URL:</b><a href=\"https://data.lacity.org/api/views/e2zz-y53s/rows.csv?accessType=DOWNLOAD\"> https://data.lacity.org/api/views/e2zz-y53s/rows.csv?accessType=DOWNLOAD</a></p>\n",
       "        \n",
       "            </div>\n",
       "            <div style=\"flex: 1 1 0; height: 100%; overflow: auto\">\n",
       "                <p>\n",
       "                    The Business Source Center (BSC) Program, funded through the Community Development Block Grant (CDBG), provides entrepreneurial training, technical assistance and access to capital for micro-enterprise and start-up businesses.  The program promotes job creation for Angelenos by providing entrepreneurs and small business the support they need to start and/or expand their business.  Goals are established through United States Department of Housing and Urban Development (HUD) guidelines and local measures.\n",
       "                </p>\n",
       "            </div>\n",
       "        </div>\n",
       "        "
      ],
      "text/plain": [
       "https://data.lacity.org/api/views/e2zz-y53s\n",
       "Business Source Center Program Performance Objectives (Q5:  04/18 - 06/19)\n",
       "The Business Source Center (BSC) Program, funded through the Community Development Block Grant (CDBG), provides entrepreneurial training, technical assistance and access to capital for micro-enterprise and start-up businesses.  The program promotes job creation for Angelenos by providing entrepreneurs and small business the support they need to start and/or expand their business.  Goals are established through United States Department of Housing and Urban Development (HUD) guidelines and local measures."
      ]
     },
     "metadata": {},
     "output_type": "display_data"
    },
    {
     "data": {
      "text/html": [
       "\n",
       "        <h3>Los Angeles BusinessSource Centers \"Micro: Startups (<5 Employees)\" Performance Units for 01/01/17 through 12/31/17</h3>\n",
       "        <div style=\"display: flex; flex-direction: row; flex-wrap: wrap; height:256px\">\n",
       "            <div style=\"flex: 0 0 384px; padding-right: 24px\">\n",
       "                \n",
       "            <p style=\"margin-bottom: 0.5em\"><b>ID:</b><a href=\"https://data.lacity.org/api/views/jg4k-s4ud\"> https://data.lacity.org/api/views/jg4k-s4ud</a></p>\n",
       "            <p style=\"margin-bottom: 0.5em\"><b>Issued:</b> 2018-02-07</p>\n",
       "            <p style=\"margin-bottom: 0.5em\"><b>Last Modified:</b> 2019-07-10</p>\n",
       "            <p style=\"margin-bottom: 0.5em\"><b>Publisher:</b> data.lacity.org</p>\n",
       "            <p style=\"margin-bottom: 0.5em\"><b>License:</b> unknown</p>\n",
       "            <p style=\"margin-bottom: 0.5em\"><b>Download URL:</b><a href=\"https://data.lacity.org/api/views/jg4k-s4ud/rows.csv?accessType=DOWNLOAD\"> https://data.lacity.org/api/views/jg4k-s4ud/rows.csv?accessType=DOWNLOAD</a></p>\n",
       "        \n",
       "            </div>\n",
       "            <div style=\"flex: 1 1 0; height: 100%; overflow: auto\">\n",
       "                <p>\n",
       "                    The Los Angeles BusinessSource Centers provide startup ventures and current small business owners various cost effective tools to make their business a success. Through these tools, small businesses can grow and remain competitive within the City of Los Angeles.\n",
       "\n",
       "Startups focuses on owners of businesses with five (5) or fewer employees, one of whom owns the enterprise, and have net operating income of less than Two Hundred Thousand Dollars ($200,000).  This focus is particularly important as the majority of the businesses within the City may be categorized as “survivors,” and historically, many such businesses fail in their first two years of operation.  The survival and growth of such businesses is still very important to the ongoing economic vitality of the City.\n",
       "                </p>\n",
       "            </div>\n",
       "        </div>\n",
       "        "
      ],
      "text/plain": [
       "https://data.lacity.org/api/views/jg4k-s4ud\n",
       "Los Angeles BusinessSource Centers \"Micro: Startups (<5 Employees)\" Performance Units for 01/01/17 through 12/31/17\n",
       "The Los Angeles BusinessSource Centers provide startup ventures and current small business owners various cost effective tools to make their business a success. Through these tools, small businesses can grow and remain competitive within the City of Los Angeles.\n",
       "\n",
       "Startups focuses on owners of businesses with five (5) or fewer employees, one of whom owns the enterprise, and have net operating income of less than Two Hundred Thousand Dollars ($200,000).  This focus is particularly important as the majority of the businesses within the City may be categorized as “survivors,” and historically, many such businesses fail in their first two years of operation.  The survival and growth of such businesses is still very important to the ongoing economic vitality of the City."
      ]
     },
     "metadata": {},
     "output_type": "display_data"
    },
    {
     "data": {
      "text/html": [
       "\n",
       "        <h3>Business Source Center Program Performance Objectives (Q2:  04/18 - 09/18)</h3>\n",
       "        <div style=\"display: flex; flex-direction: row; flex-wrap: wrap; height:256px\">\n",
       "            <div style=\"flex: 0 0 384px; padding-right: 24px\">\n",
       "                \n",
       "            <p style=\"margin-bottom: 0.5em\"><b>ID:</b><a href=\"https://data.lacity.org/api/views/pt99-74gb\"> https://data.lacity.org/api/views/pt99-74gb</a></p>\n",
       "            <p style=\"margin-bottom: 0.5em\"><b>Issued:</b> 2019-07-18</p>\n",
       "            <p style=\"margin-bottom: 0.5em\"><b>Last Modified:</b> 2019-08-23</p>\n",
       "            <p style=\"margin-bottom: 0.5em\"><b>Publisher:</b> data.lacity.org</p>\n",
       "            <p style=\"margin-bottom: 0.5em\"><b>License:</b> unknown</p>\n",
       "            <p style=\"margin-bottom: 0.5em\"><b>Download URL:</b><a href=\"https://data.lacity.org/api/views/pt99-74gb/rows.csv?accessType=DOWNLOAD\"> https://data.lacity.org/api/views/pt99-74gb/rows.csv?accessType=DOWNLOAD</a></p>\n",
       "        \n",
       "            </div>\n",
       "            <div style=\"flex: 1 1 0; height: 100%; overflow: auto\">\n",
       "                <p>\n",
       "                    The Business Source Center (BSC) Program, funded through the Community Development Block Grant (CDBG), provides entrepreneurial training, technical assistance and access to capital for micro-enterprise and start-up businesses.  The program promotes job creation for Angelenos by providing entrepreneurs and small business the support they need to start and/or expand their business.  Goals are established through United States Department of Housing and Urban Development (HUD) guidelines and local measures.\n",
       "                </p>\n",
       "            </div>\n",
       "        </div>\n",
       "        "
      ],
      "text/plain": [
       "https://data.lacity.org/api/views/pt99-74gb\n",
       "Business Source Center Program Performance Objectives (Q2:  04/18 - 09/18)\n",
       "The Business Source Center (BSC) Program, funded through the Community Development Block Grant (CDBG), provides entrepreneurial training, technical assistance and access to capital for micro-enterprise and start-up businesses.  The program promotes job creation for Angelenos by providing entrepreneurs and small business the support they need to start and/or expand their business.  Goals are established through United States Department of Housing and Urban Development (HUD) guidelines and local measures."
      ]
     },
     "metadata": {},
     "output_type": "display_data"
    },
    {
     "data": {
      "text/html": [
       "\n",
       "        <h3>Los Angeles BusinessSource Centers \"Micro: PreStartups\" Performance Units</h3>\n",
       "        <div style=\"display: flex; flex-direction: row; flex-wrap: wrap; height:256px\">\n",
       "            <div style=\"flex: 0 0 384px; padding-right: 24px\">\n",
       "                \n",
       "            <p style=\"margin-bottom: 0.5em\"><b>ID:</b><a href=\"https://data.lacity.org/api/views/ptdy-3ivc\"> https://data.lacity.org/api/views/ptdy-3ivc</a></p>\n",
       "            <p style=\"margin-bottom: 0.5em\"><b>Issued:</b> 2018-02-09</p>\n",
       "            <p style=\"margin-bottom: 0.5em\"><b>Last Modified:</b> 2018-10-09</p>\n",
       "            <p style=\"margin-bottom: 0.5em\"><b>Publisher:</b> data.lacity.org</p>\n",
       "            <p style=\"margin-bottom: 0.5em\"><b>License:</b> unknown</p>\n",
       "            <p style=\"margin-bottom: 0.5em\"><b>Download URL:</b><a href=\"https://data.lacity.org/api/views/ptdy-3ivc/rows.csv?accessType=DOWNLOAD\"> https://data.lacity.org/api/views/ptdy-3ivc/rows.csv?accessType=DOWNLOAD</a></p>\n",
       "        \n",
       "            </div>\n",
       "            <div style=\"flex: 1 1 0; height: 100%; overflow: auto\">\n",
       "                <p>\n",
       "                    The Los Angeles BusinessSource Centers provide startup ventures and current small business owners various cost effective tools to make their business a success. Through these tools, small businesses can grow and remain competitive within the City of Los Angeles.\n",
       "\n",
       "Microenterprise: Prestartups focuses on providing critical support to entrepreneurs and to prospective new business owners, focusing on low and moderate-income clientele living in the City.\n",
       "                </p>\n",
       "            </div>\n",
       "        </div>\n",
       "        "
      ],
      "text/plain": [
       "https://data.lacity.org/api/views/ptdy-3ivc\n",
       "Los Angeles BusinessSource Centers \"Micro: PreStartups\" Performance Units\n",
       "The Los Angeles BusinessSource Centers provide startup ventures and current small business owners various cost effective tools to make their business a success. Through these tools, small businesses can grow and remain competitive within the City of Los Angeles.\n",
       "\n",
       "Microenterprise: Prestartups focuses on providing critical support to entrepreneurs and to prospective new business owners, focusing on low and moderate-income clientele living in the City."
      ]
     },
     "metadata": {},
     "output_type": "display_data"
    },
    {
     "data": {
      "text/html": [
       "\n",
       "        <h3>BSS Pavement Preservation Annual Data</h3>\n",
       "        <div style=\"display: flex; flex-direction: row; flex-wrap: wrap; height:256px\">\n",
       "            <div style=\"flex: 0 0 384px; padding-right: 24px\">\n",
       "                \n",
       "            <p style=\"margin-bottom: 0.5em\"><b>ID:</b><a href=\"https://data.lacity.org/api/views/qer2-sxr5\"> https://data.lacity.org/api/views/qer2-sxr5</a></p>\n",
       "            <p style=\"margin-bottom: 0.5em\"><b>Issued:</b> 2014-05-30</p>\n",
       "            <p style=\"margin-bottom: 0.5em\"><b>Last Modified:</b> 2016-11-30</p>\n",
       "            <p style=\"margin-bottom: 0.5em\"><b>Publisher:</b> data.lacity.org</p>\n",
       "            <p style=\"margin-bottom: 0.5em\"><b>License:</b> http://creativecommons.org/publicdomain/zero/1.0/legalcode</p>\n",
       "            <p style=\"margin-bottom: 0.5em\"><b>Download URL:</b><a href=\"https://data.lacity.org/api/views/qer2-sxr5/rows.csv?accessType=DOWNLOAD\"> https://data.lacity.org/api/views/qer2-sxr5/rows.csv?accessType=DOWNLOAD</a></p>\n",
       "        \n",
       "            </div>\n",
       "            <div style=\"flex: 1 1 0; height: 100%; overflow: auto\">\n",
       "                <p>\n",
       "                    Annual Data FY 10 to FY 13 for street resurfacing, resealing, small asphalt repairs (potholes), slurry seal\n",
       "                </p>\n",
       "            </div>\n",
       "        </div>\n",
       "        "
      ],
      "text/plain": [
       "https://data.lacity.org/api/views/qer2-sxr5\n",
       "BSS Pavement Preservation Annual Data\n",
       "Annual Data FY 10 to FY 13 for street resurfacing, resealing, small asphalt repairs (potholes), slurry seal"
      ]
     },
     "metadata": {},
     "output_type": "display_data"
    },
    {
     "data": {
      "text/html": [
       "\n",
       "        <h3>EWDD - Business Source Center Program Performance Objectives</h3>\n",
       "        <div style=\"display: flex; flex-direction: row; flex-wrap: wrap; height:256px\">\n",
       "            <div style=\"flex: 0 0 384px; padding-right: 24px\">\n",
       "                \n",
       "            <p style=\"margin-bottom: 0.5em\"><b>ID:</b><a href=\"https://data.lacity.org/api/views/qqur-fdui\"> https://data.lacity.org/api/views/qqur-fdui</a></p>\n",
       "            <p style=\"margin-bottom: 0.5em\"><b>Issued:</b> 2014-05-29</p>\n",
       "            <p style=\"margin-bottom: 0.5em\"><b>Last Modified:</b> 2018-02-13</p>\n",
       "            <p style=\"margin-bottom: 0.5em\"><b>Publisher:</b> data.lacity.org</p>\n",
       "            <p style=\"margin-bottom: 0.5em\"><b>License:</b> http://creativecommons.org/publicdomain/zero/1.0/legalcode</p>\n",
       "            <p style=\"margin-bottom: 0.5em\"><b>Download URL:</b><a href=\"https://data.lacity.org/api/views/qqur-fdui/rows.csv?accessType=DOWNLOAD\"> https://data.lacity.org/api/views/qqur-fdui/rows.csv?accessType=DOWNLOAD</a></p>\n",
       "        \n",
       "            </div>\n",
       "            <div style=\"flex: 1 1 0; height: 100%; overflow: auto\">\n",
       "                <p>\n",
       "                    The BSC Program, funded through the CDBG, provides entrepreneurial training, technical assistance and access to capital for micro-enterprise and start-up businesses.  The program promotes job creation for Angelenos by providing entrepreneurs and small businesses the support they need to start and/or expand their businesses.  Goals are established through HUD guidelines and local measures.\n",
       "                </p>\n",
       "            </div>\n",
       "        </div>\n",
       "        "
      ],
      "text/plain": [
       "https://data.lacity.org/api/views/qqur-fdui\n",
       "EWDD - Business Source Center Program Performance Objectives\n",
       "The BSC Program, funded through the CDBG, provides entrepreneurial training, technical assistance and access to capital for micro-enterprise and start-up businesses.  The program promotes job creation for Angelenos by providing entrepreneurs and small businesses the support they need to start and/or expand their businesses.  Goals are established through HUD guidelines and local measures."
      ]
     },
     "metadata": {},
     "output_type": "display_data"
    },
    {
     "data": {
      "text/html": [
       "\n",
       "        <h3>Business Source Center Program Performance Objectives (Q1:  04/18 - 06/18)</h3>\n",
       "        <div style=\"display: flex; flex-direction: row; flex-wrap: wrap; height:256px\">\n",
       "            <div style=\"flex: 0 0 384px; padding-right: 24px\">\n",
       "                \n",
       "            <p style=\"margin-bottom: 0.5em\"><b>ID:</b><a href=\"https://data.lacity.org/api/views/snhr-fa63\"> https://data.lacity.org/api/views/snhr-fa63</a></p>\n",
       "            <p style=\"margin-bottom: 0.5em\"><b>Issued:</b> 2019-07-18</p>\n",
       "            <p style=\"margin-bottom: 0.5em\"><b>Last Modified:</b> 2019-08-23</p>\n",
       "            <p style=\"margin-bottom: 0.5em\"><b>Publisher:</b> data.lacity.org</p>\n",
       "            <p style=\"margin-bottom: 0.5em\"><b>License:</b> unknown</p>\n",
       "            <p style=\"margin-bottom: 0.5em\"><b>Download URL:</b><a href=\"https://data.lacity.org/api/views/snhr-fa63/rows.csv?accessType=DOWNLOAD\"> https://data.lacity.org/api/views/snhr-fa63/rows.csv?accessType=DOWNLOAD</a></p>\n",
       "        \n",
       "            </div>\n",
       "            <div style=\"flex: 1 1 0; height: 100%; overflow: auto\">\n",
       "                <p>\n",
       "                    The Business Source Center (BSC) Program, funded through the Community Development Block Grant (CDBG), provides entrepreneurial training, technical assistance and access to capital for micro-enterprise and start-up businesses.  The program promotes job creation for Angelenos by providing entrepreneurs and small business the support they need to start and/or expand their business.  Goals are established through United States Department of Housing and Urban Development (HUD) guidelines and local measures.\n",
       "                </p>\n",
       "            </div>\n",
       "        </div>\n",
       "        "
      ],
      "text/plain": [
       "https://data.lacity.org/api/views/snhr-fa63\n",
       "Business Source Center Program Performance Objectives (Q1:  04/18 - 06/18)\n",
       "The Business Source Center (BSC) Program, funded through the Community Development Block Grant (CDBG), provides entrepreneurial training, technical assistance and access to capital for micro-enterprise and start-up businesses.  The program promotes job creation for Angelenos by providing entrepreneurs and small business the support they need to start and/or expand their business.  Goals are established through United States Department of Housing and Urban Development (HUD) guidelines and local measures."
      ]
     },
     "metadata": {},
     "output_type": "display_data"
    },
    {
     "data": {
      "text/html": [
       "\n",
       "        <h3>Los Angeles BusinessSource Centers \"Operating Businesses (>5 Employees)\" Performance Units for 01/01/17 through 12/31/17</h3>\n",
       "        <div style=\"display: flex; flex-direction: row; flex-wrap: wrap; height:256px\">\n",
       "            <div style=\"flex: 0 0 384px; padding-right: 24px\">\n",
       "                \n",
       "            <p style=\"margin-bottom: 0.5em\"><b>ID:</b><a href=\"https://data.lacity.org/api/views/tp35-mfg9\"> https://data.lacity.org/api/views/tp35-mfg9</a></p>\n",
       "            <p style=\"margin-bottom: 0.5em\"><b>Issued:</b> 2018-02-08</p>\n",
       "            <p style=\"margin-bottom: 0.5em\"><b>Last Modified:</b> 2019-07-10</p>\n",
       "            <p style=\"margin-bottom: 0.5em\"><b>Publisher:</b> data.lacity.org</p>\n",
       "            <p style=\"margin-bottom: 0.5em\"><b>License:</b> unknown</p>\n",
       "            <p style=\"margin-bottom: 0.5em\"><b>Download URL:</b><a href=\"https://data.lacity.org/api/views/tp35-mfg9/rows.csv?accessType=DOWNLOAD\"> https://data.lacity.org/api/views/tp35-mfg9/rows.csv?accessType=DOWNLOAD</a></p>\n",
       "        \n",
       "            </div>\n",
       "            <div style=\"flex: 1 1 0; height: 100%; overflow: auto\">\n",
       "                <p>\n",
       "                    The Los Angeles BusinessSource Centers provide startup ventures and current small business owners various cost effective tools to make their business a success. Through these tools, small businesses can grow and remain competitive within the City of Los Angeles.\n",
       "\n",
       "The Operating Businesses component, defined as employing 6 or more employees, focuses on providing business assistance and training to emerging companies that will give them the highest opportunities for success.  The business services provided to the clients shall include, but not be limited to, customized technical business assistance (industry specific) particular to their business needs in order to stabilize the business, increase revenues and increase operational performance which will lead to the greatest impact on their economic viability and increase profitability.\n",
       "                </p>\n",
       "            </div>\n",
       "        </div>\n",
       "        "
      ],
      "text/plain": [
       "https://data.lacity.org/api/views/tp35-mfg9\n",
       "Los Angeles BusinessSource Centers \"Operating Businesses (>5 Employees)\" Performance Units for 01/01/17 through 12/31/17\n",
       "The Los Angeles BusinessSource Centers provide startup ventures and current small business owners various cost effective tools to make their business a success. Through these tools, small businesses can grow and remain competitive within the City of Los Angeles.\n",
       "\n",
       "The Operating Businesses component, defined as employing 6 or more employees, focuses on providing business assistance and training to emerging companies that will give them the highest opportunities for success.  The business services provided to the clients shall include, but not be limited to, customized technical business assistance (industry specific) particular to their business needs in order to stabilize the business, increase revenues and increase operational performance which will lead to the greatest impact on their economic viability and increase profitability."
      ]
     },
     "metadata": {},
     "output_type": "display_data"
    }
   ],
   "source": [
    "service_requests = open_data.search('Small Cell')\n",
    "for entry_id, entry in service_requests.items():\n",
    "    display(entry)"
   ]
  },
  {
   "cell_type": "code",
   "execution_count": 16,
   "metadata": {},
   "outputs": [
    {
     "name": "stderr",
     "output_type": "stream",
     "text": [
      "/opt/conda/lib/python3.7/site-packages/dask/core.py:118: DtypeWarning: Columns (0,1,14) have mixed types. Specify dtype option on import or set low_memory=False.\n",
      "  args2 = [_execute_task(a, cache) for a in args]\n"
     ]
    }
   ],
   "source": [
    "small_cells = service_requests['https://data.lacity.org/api/views/3nrm-mq6k'].read()"
   ]
  },
  {
   "cell_type": "code",
   "execution_count": 17,
   "metadata": {},
   "outputs": [
    {
     "data": {
      "text/html": [
       "<div>\n",
       "<style scoped>\n",
       "    .dataframe tbody tr th:only-of-type {\n",
       "        vertical-align: middle;\n",
       "    }\n",
       "\n",
       "    .dataframe tbody tr th {\n",
       "        vertical-align: top;\n",
       "    }\n",
       "\n",
       "    .dataframe thead th {\n",
       "        text-align: right;\n",
       "    }\n",
       "</style>\n",
       "<table border=\"1\" class=\"dataframe\">\n",
       "  <thead>\n",
       "    <tr style=\"text-align: right;\">\n",
       "      <th></th>\n",
       "      <th>slid</th>\n",
       "      <th>geometry</th>\n",
       "    </tr>\n",
       "  </thead>\n",
       "  <tbody>\n",
       "    <tr>\n",
       "      <th>0</th>\n",
       "      <td>33015.0</td>\n",
       "      <td>POINT (-118.4803303694331 33.99463296763471)</td>\n",
       "    </tr>\n",
       "    <tr>\n",
       "      <th>1</th>\n",
       "      <td>33003.0</td>\n",
       "      <td>POINT (-118.4798412206121 33.99493073954338)</td>\n",
       "    </tr>\n",
       "    <tr>\n",
       "      <th>2</th>\n",
       "      <td>33057.0</td>\n",
       "      <td>POINT (-118.4798563419765 33.99682894445499)</td>\n",
       "    </tr>\n",
       "    <tr>\n",
       "      <th>3</th>\n",
       "      <td>99343.0</td>\n",
       "      <td>POINT (-118.4282904502912 33.91778721274849)</td>\n",
       "    </tr>\n",
       "    <tr>\n",
       "      <th>4</th>\n",
       "      <td>181891.0</td>\n",
       "      <td>POINT (-118.4345636585456 33.93071790544556)</td>\n",
       "    </tr>\n",
       "  </tbody>\n",
       "</table>\n",
       "</div>"
      ],
      "text/plain": [
       "       slid                                      geometry\n",
       "0   33015.0  POINT (-118.4803303694331 33.99463296763471)\n",
       "1   33003.0  POINT (-118.4798412206121 33.99493073954338)\n",
       "2   33057.0  POINT (-118.4798563419765 33.99682894445499)\n",
       "3   99343.0  POINT (-118.4282904502912 33.91778721274849)\n",
       "4  181891.0  POINT (-118.4345636585456 33.93071790544556)"
      ]
     },
     "execution_count": 17,
     "metadata": {},
     "output_type": "execute_result"
    }
   ],
   "source": [
    "small_cells.head()"
   ]
  },
  {
   "cell_type": "markdown",
   "metadata": {},
   "source": [
    "## Making a Map using Geopandas\n",
    "\n",
    "Now that we have a dataframe, we can turn it into a Geodataframe and plot it using geopandas. \n",
    "\n",
    "However, this is pretty hard to use as a map. "
   ]
  },
  {
   "cell_type": "code",
   "execution_count": 23,
   "metadata": {},
   "outputs": [
    {
     "data": {
      "text/plain": [
       "<matplotlib.axes._subplots.AxesSubplot at 0x7f5ede894390>"
      ]
     },
     "execution_count": 23,
     "metadata": {},
     "output_type": "execute_result"
    },
    {
     "data": {
      "image/png": "[encoded data removed]",
      "text/plain": [
       "<Figure size 432x288 with 1 Axes>"
      ]
     },
     "metadata": {
      "needs_background": "light"
     },
     "output_type": "display_data"
    }
   ],
   "source": [
    "import geopandas as gpd\n",
    "from ipyleaflet import Map, GeoData, basemaps, LayersControl\n",
    "gdf = gpd.GeoDataFrame(small_cells)\n",
    "gdf.plot()"
   ]
  },
  {
   "cell_type": "markdown",
   "metadata": {},
   "source": [
    "# Point Map using ipyleaflet\n",
    "\n",
    "Using ipyleaflet, we can add a geodataframe layer"
   ]
  },
  {
   "cell_type": "code",
   "execution_count": 42,
   "metadata": {},
   "outputs": [],
   "source": [
    "m = Map(center=(33.8711,-117.8628), zoom = 9, basemap= basemaps.Esri.WorldTopoMap)"
   ]
  },
  {
   "cell_type": "code",
   "execution_count": 46,
   "metadata": {},
   "outputs": [],
   "source": [
    "small_cell_layer = GeoData(geo_dataframe = gdf,\n",
    "                   name = 'Small Cells')\n"
   ]
  },
  {
   "cell_type": "code",
   "execution_count": 47,
   "metadata": {},
   "outputs": [],
   "source": [
    "m.add_layer(small_cell_layer)"
   ]
  },
  {
   "cell_type": "code",
   "execution_count": 48,
   "metadata": {},
   "outputs": [
    {
     "data": {
      "application/vnd.jupyter.widget-view+json": {
       "model_id": "4a3a1ea45bbc433dab04fdb2430ac7d9",
       "version_major": 2,
       "version_minor": 0
      },
      "text/plain": [
       "Map(basemap={'url': 'http://server.arcgisonline.com/ArcGIS/rest/services/World_Topo_Map/MapServer/tile/{z}/{y}…"
      ]
     },
     "metadata": {},
     "output_type": "display_data"
    }
   ],
   "source": [
    "m"
   ]
  },
  {
   "cell_type": "markdown",
   "metadata": {},
   "source": [
    "# Heatmap, instead"
   ]
  },
  {
   "cell_type": "code",
   "execution_count": null,
   "metadata": {},
   "outputs": [],
   "source": []
  }
 ],
 "metadata": {
  "kernelspec": {
   "display_name": "Python 3",
   "language": "python",
   "name": "python3"
  },
  "language_info": {
   "codemirror_mode": {
    "name": "ipython",
    "version": 3
   },
   "file_extension": ".py",
   "mimetype": "text/x-python",
   "name": "python",
   "nbconvert_exporter": "python",
   "pygments_lexer": "ipython3",
   "version": "3.7.3"
  }
 },
 "nbformat": 4,
 "nbformat_minor": 4
}
