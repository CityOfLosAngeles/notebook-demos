{
 "cells": [
  {
   "cell_type": "markdown",
   "metadata": {},
   "source": [
    "# Goal: Scrape The First Page of YellowPages Results for \"Legal\", MVP for LA YellowPages Scrape"
   ]
  },
  {
   "cell_type": "markdown",
   "metadata": {},
   "source": [
    "# Import Libraries and Create Soup"
   ]
  },
  {
   "cell_type": "code",
   "execution_count": 1,
   "metadata": {},
   "outputs": [],
   "source": [
    "from bs4 import BeautifulSoup\n",
    "import requests\n",
    "import pandas as pd"
   ]
  },
  {
   "cell_type": "code",
   "execution_count": 2,
   "metadata": {},
   "outputs": [],
   "source": [
    "url = 'https://www.yellowpages.com/los-angeles-ca/legal'"
   ]
  },
  {
   "cell_type": "code",
   "execution_count": 3,
   "metadata": {},
   "outputs": [],
   "source": [
    "r = requests.get(url)"
   ]
  },
  {
   "cell_type": "code",
   "execution_count": 4,
   "metadata": {},
   "outputs": [],
   "source": [
    "html_doc = r.text"
   ]
  },
  {
   "cell_type": "code",
   "execution_count": 5,
   "metadata": {},
   "outputs": [],
   "source": [
    "soup = BeautifulSoup(html_doc)"
   ]
  },
  {
   "cell_type": "markdown",
   "metadata": {},
   "source": [
    "# Empty Lists to Hold Legal DF Components"
   ]
  },
  {
   "cell_type": "code",
   "execution_count": 2,
   "metadata": {},
   "outputs": [],
   "source": [
    "legal_names = []\n",
    "legal_phones = []\n",
    "legal_streets = []\n",
    "legal_localities = []\n",
    "legal_categories = []"
   ]
  },
  {
   "cell_type": "markdown",
   "metadata": {},
   "source": [
    "# Get 101 pages that make up the Legal Category"
   ]
  },
  {
   "cell_type": "code",
   "execution_count": 3,
   "metadata": {},
   "outputs": [],
   "source": [
    "legal = 'https://www.yellowpages.com/los-angeles-ca/legal?page='"
   ]
  },
  {
   "cell_type": "code",
   "execution_count": 4,
   "metadata": {},
   "outputs": [],
   "source": [
    "legal_pages = range(102)"
   ]
  },
  {
   "cell_type": "code",
   "execution_count": 5,
   "metadata": {},
   "outputs": [],
   "source": [
    "legal_list = []"
   ]
  },
  {
   "cell_type": "code",
   "execution_count": 6,
   "metadata": {},
   "outputs": [],
   "source": [
    "for n in legal_pages:\n",
    "    legal_url = f'{legal}{legal_pages[n]}'\n",
    "    legal_list.append(legal_url)"
   ]
  },
  {
   "cell_type": "code",
   "execution_count": 7,
   "metadata": {},
   "outputs": [
    {
     "name": "stdout",
     "output_type": "stream",
     "text": [
      "102\n"
     ]
    }
   ],
   "source": [
    "print(len(legal_list))"
   ]
  },
  {
   "cell_type": "markdown",
   "metadata": {},
   "source": [
    "# For Loop 101 Pages Scrape"
   ]
  },
  {
   "cell_type": "code",
   "execution_count": 9,
   "metadata": {
    "collapsed": true,
    "jupyter": {
     "outputs_hidden": true
    }
   },
   "outputs": [
    {
     "name": "stdout",
     "output_type": "stream",
     "text": [
      "                          Name  \\\n",
      "0  AdCommunity Legal Solutions   \n",
      "1                     1. Legal   \n",
      "2   2. Your Way Out Bail Bonds   \n",
      "\n",
      "                                               Phone  \\\n",
      "0                                           no_phone   \n",
      "1  <div class=\"phones phone primary\">(424) 298-84...   \n",
      "2  <div class=\"phones phone primary\">(805) 395-21...   \n",
      "\n",
      "                             Address               Locality  \\\n",
      "0                          no_street            no_locality   \n",
      "1                  2476 Overland Ave  Los Angeles, CA 90064   \n",
      "2  1547 W Martin Luther King Jr Blvd  Los Angeles, CA 90062   \n",
      "\n",
      "                                          Categories YP_Category  \n",
      "0            Legal ClinicsAttorneysDivorce Attorneys       Legal  \n",
      "1                                      no_categories       Legal  \n",
      "2  Financial ServicesBail Bond Referral ServiceBa...       Legal  \n"
     ]
    }
   ],
   "source": [
    "for page in legal_list:\n",
    "    r = requests.get(page)\n",
    "    html_doc = r.text\n",
    "    soup = BeautifulSoup(html_doc)\n",
    "    organic_boxes = soup.find_all('div', class_ = 'info')\n",
    "    for i in organic_boxes:\n",
    "        if i.find('h2', class_ = 'n'):\n",
    "            legal_names.append(i.find('h2', class_ = 'n').get_text())\n",
    "        else:\n",
    "            legal_names.append('no_name')\n",
    "        if i.find('div', class_ = 'street-address'):\n",
    "            legal_phones.append(i.find('div', class_ = 'phones phone primary'))\n",
    "        else:\n",
    "            legal_phones.append('no_phone')\n",
    "        if i.find('div', class_ = 'street-address'):\n",
    "            legal_streets.append(i.find('div', class_ = 'street-address').get_text())\n",
    "        else:\n",
    "            legal_streets.append('no_street')\n",
    "        if i.find('div', class_ = 'locality'):\n",
    "            legal_localities.append(i.find('div', class_ = 'locality').get_text())\n",
    "        else:\n",
    "            legal_localities.append('no_locality')\n",
    "        if i.find('div', class_ = 'categories'):\n",
    "            legal_categories.append(i.find('div', class_ = 'categories').get_text())\n",
    "        else:\n",
    "            legal_categories.append('no_categories')\n",
    "legal_zippedList = list(zip(legal_names, legal_phones, legal_streets, legal_localities, legal_categories))\n",
    "legal_df = pd.DataFrame(legal_zippedList, columns=['Name', 'Phone', 'Address', 'Locality', 'Categories'])\n",
    "legal_df['YP_Category'] = 'Legal'\n",
    "print(legal_df.head(3))"
   ]
  },
  {
   "cell_type": "markdown",
   "metadata": {},
   "source": [
    "# For Loop 101 Insurance Scrape"
   ]
  },
  {
   "cell_type": "code",
   "execution_count": 11,
   "metadata": {},
   "outputs": [
    {
     "name": "stdout",
     "output_type": "stream",
     "text": [
      "102\n"
     ]
    }
   ],
   "source": [
    "insurance_names = []\n",
    "insurance_phones = []\n",
    "insurance_streets = []\n",
    "insurance_localities = []\n",
    "insurance_categories = []\n",
    "insurance = 'https://www.yellowpages.com/los-angeles-ca/insurance?page='\n",
    "insurance_pages = range(102)\n",
    "insurance_list = []\n",
    "for n in insurance_pages:\n",
    "    insurance_url = f'{insurance}{insurance_pages[n]}'\n",
    "    insurance_list.append(insurance_url)\n",
    "print(len(insurance_list))"
   ]
  },
  {
   "cell_type": "code",
   "execution_count": 12,
   "metadata": {
    "collapsed": true,
    "jupyter": {
     "outputs_hidden": true
    }
   },
   "outputs": [
    {
     "name": "stdout",
     "output_type": "stream",
     "text": [
      "                            Name     Phone    Address     Locality  \\\n",
      "0              AdGEICO Insurance  no_phone  no_street  no_locality   \n",
      "1                   AdState Farm  no_phone  no_street  no_locality   \n",
      "2  AdSaferoad Insurance Services  no_phone  no_street  no_locality   \n",
      "\n",
      "                         Categories YP_Category  \n",
      "0  InsuranceBoat & Marine Insurance   Insurance  \n",
      "1          InsuranceGroup Insurance   Insurance  \n",
      "2                         Insurance   Insurance  \n"
     ]
    }
   ],
   "source": [
    "for page in insurance_list:\n",
    "    r = requests.get(page)\n",
    "    html_doc = r.text\n",
    "    soup = BeautifulSoup(html_doc)\n",
    "    organic_boxes = soup.find_all('div', class_ = 'info')\n",
    "    for i in organic_boxes:\n",
    "        if i.find('h2', class_ = 'n'):\n",
    "            insurance_names.append(i.find('h2', class_ = 'n').get_text())\n",
    "        else:\n",
    "            insurance_names.append('no_name')\n",
    "        if i.find('div', class_ = 'street-address'):\n",
    "            insurance_phones.append(i.find('div', class_ = 'phones phone primary'))\n",
    "        else:\n",
    "            insurance_phones.append('no_phone')\n",
    "        if i.find('div', class_ = 'street-address'):\n",
    "            insurance_streets.append(i.find('div', class_ = 'street-address').get_text())\n",
    "        else:\n",
    "            insurance_streets.append('no_street')\n",
    "        if i.find('div', class_ = 'locality'):\n",
    "            insurance_localities.append(i.find('div', class_ = 'locality').get_text())\n",
    "        else:\n",
    "            insurance_localities.append('no_locality')\n",
    "        if i.find('div', class_ = 'categories'):\n",
    "            insurance_categories.append(i.find('div', class_ = 'categories').get_text())\n",
    "        else:\n",
    "            insurance_categories.append('no_categories')\n",
    "insurance_zippedList = list(zip(insurance_names, insurance_phones, insurance_streets, insurance_localities, insurance_categories))\n",
    "insurance_df = pd.DataFrame(insurance_zippedList, columns=['Name', 'Phone', 'Address', 'Locality', 'Categories'])\n",
    "insurance_df['YP_Category'] = 'Insurance'\n",
    "print(insurance_df.head(3))"
   ]
  },
  {
   "cell_type": "markdown",
   "metadata": {},
   "source": [
    "# For Loop 101 Restaurants Scrape"
   ]
  },
  {
   "cell_type": "code",
   "execution_count": 15,
   "metadata": {},
   "outputs": [
    {
     "name": "stdout",
     "output_type": "stream",
     "text": [
      "102\n"
     ]
    }
   ],
   "source": [
    "restaurants_names = []\n",
    "restaurants_phones = []\n",
    "restaurants_streets = []\n",
    "restaurants_localities = []\n",
    "restaurants_categories = []\n",
    "restaurants = 'https://www.yellowpages.com/los-angeles-ca/restaurants?page='\n",
    "restaurants_pages = range(102)\n",
    "restaurants_list = []\n",
    "for n in restaurants_pages:\n",
    "    restaurants_url = f'{restaurants}{restaurants_pages[n]}'\n",
    "    restaurants_list.append(restaurants_url)\n",
    "print(len(restaurants_list))"
   ]
  },
  {
   "cell_type": "code",
   "execution_count": 16,
   "metadata": {
    "collapsed": true,
    "jupyter": {
     "outputs_hidden": true
    }
   },
   "outputs": [
    {
     "name": "stdout",
     "output_type": "stream",
     "text": [
      "                              Name  \\\n",
      "0  AdStevens Steak & Seafood House   \n",
      "1    1. Palermo Italian Restaurant   \n",
      "2         2. Casa Bianca Pizza Pie   \n",
      "\n",
      "                                               Phone             Address  \\\n",
      "0                                           no_phone           no_street   \n",
      "1  <div class=\"phones phone primary\">(323) 663-14...  1858 N Vermont Ave   \n",
      "2  <div class=\"phones phone primary\">(323) 505-49...  1650 Colorado Blvd   \n",
      "\n",
      "                Locality                            Categories  YP_Category  \n",
      "0            no_locality               RestaurantsSteak Houses  restaurants  \n",
      "1  Los Angeles, CA 90027   RestaurantsPizzaItalian Restaurants  restaurants  \n",
      "2  Los Angeles, CA 90041  RestaurantsPizzaTake Out Restaurants  restaurants  \n"
     ]
    }
   ],
   "source": [
    "for page in restaurants_list:\n",
    "    r = requests.get(page)\n",
    "    html_doc = r.text\n",
    "    soup = BeautifulSoup(html_doc)\n",
    "    organic_boxes = soup.find_all('div', class_ = 'info')\n",
    "    for i in organic_boxes:\n",
    "        if i.find('h2', class_ = 'n'):\n",
    "            restaurants_names.append(i.find('h2', class_ = 'n').get_text())\n",
    "        else:\n",
    "            restaurants_names.append('no_name')\n",
    "        if i.find('div', class_ = 'street-address'):\n",
    "            restaurants_phones.append(i.find('div', class_ = 'phones phone primary'))\n",
    "        else:\n",
    "            restaurants_phones.append('no_phone')\n",
    "        if i.find('div', class_ = 'street-address'):\n",
    "            restaurants_streets.append(i.find('div', class_ = 'street-address').get_text())\n",
    "        else:\n",
    "            restaurants_streets.append('no_street')\n",
    "        if i.find('div', class_ = 'locality'):\n",
    "            restaurants_localities.append(i.find('div', class_ = 'locality').get_text())\n",
    "        else:\n",
    "            restaurants_localities.append('no_locality')\n",
    "        if i.find('div', class_ = 'categories'):\n",
    "            restaurants_categories.append(i.find('div', class_ = 'categories').get_text())\n",
    "        else:\n",
    "            restaurants_categories.append('no_categories')\n",
    "restaurants_zippedList = list(zip(restaurants_names, restaurants_phones, restaurants_streets, restaurants_localities, restaurants_categories))\n",
    "restaurants_df = pd.DataFrame(restaurants_zippedList, columns=['Name', 'Phone', 'Address', 'Locality', 'Categories'])\n",
    "restaurants_df['YP_Category'] = 'restaurants'\n",
    "print(restaurants_df.head(3))"
   ]
  },
  {
   "cell_type": "markdown",
   "metadata": {},
   "source": [
    "# For Loop 101 Beauty Scrape"
   ]
  },
  {
   "cell_type": "code",
   "execution_count": 17,
   "metadata": {},
   "outputs": [
    {
     "name": "stdout",
     "output_type": "stream",
     "text": [
      "102\n",
      "                                            Name     Phone    Address  \\\n",
      "0  1. Simon's Discount Pharmacy & Medical Supply  no_phone  no_street   \n",
      "1                                      2. Simons  no_phone  no_street   \n",
      "2              3. Claudio Ditalia The Hair Salon  no_phone  no_street   \n",
      "\n",
      "      Locality                                         Categories YP_Category  \n",
      "0  no_locality  Health & Wellness ProductsCosmetics & Perfumes...      beauty  \n",
      "1  no_locality  Cosmetics & PerfumesWheelchairsHealth & Wellne...      beauty  \n",
      "2  no_locality       Beauty SalonsNail SalonsCosmetics & Perfumes      beauty  \n"
     ]
    }
   ],
   "source": [
    "beauty_names = []\n",
    "beauty_phones = []\n",
    "beauty_streets = []\n",
    "beauty_localities = []\n",
    "beauty_categories = []\n",
    "beauty = 'https://www.yellowpages.com/los-angeles-ca/beauty?page='\n",
    "beauty_pages = range(102)\n",
    "beauty_list = []\n",
    "for n in beauty_pages:\n",
    "    beauty_url = f'{beauty}{beauty_pages[n]}'\n",
    "    beauty_list.append(beauty_url)\n",
    "print(len(beauty_list))\n",
    "for page in beauty_list:\n",
    "    r = requests.get(page)\n",
    "    html_doc = r.text\n",
    "    soup = BeautifulSoup(html_doc)\n",
    "    organic_boxes = soup.find_all('div', class_ = 'info')\n",
    "    for i in organic_boxes:\n",
    "        if i.find('h2', class_ = 'n'):\n",
    "            beauty_names.append(i.find('h2', class_ = 'n').get_text())\n",
    "        else:\n",
    "            beauty_names.append('no_name')\n",
    "        if i.find('div', class_ = 'street-address'):\n",
    "            beauty_phones.append(i.find('div', class_ = 'phones phone primary'))\n",
    "        else:\n",
    "            beauty_phones.append('no_phone')\n",
    "        if i.find('div', class_ = 'street-address'):\n",
    "            beauty_streets.append(i.find('div', class_ = 'street-address').get_text())\n",
    "        else:\n",
    "            beauty_streets.append('no_street')\n",
    "        if i.find('div', class_ = 'locality'):\n",
    "            beauty_localities.append(i.find('div', class_ = 'locality').get_text())\n",
    "        else:\n",
    "            beauty_localities.append('no_locality')\n",
    "        if i.find('div', class_ = 'categories'):\n",
    "            beauty_categories.append(i.find('div', class_ = 'categories').get_text())\n",
    "        else:\n",
    "            beauty_categories.append('no_categories')\n",
    "beauty_zippedList = list(zip(beauty_names, beauty_phones, beauty_streets, beauty_localities, beauty_categories))\n",
    "beauty_df = pd.DataFrame(beauty_zippedList, columns=['Name', 'Phone', 'Address', 'Locality', 'Categories'])\n",
    "beauty_df['YP_Category'] = 'beauty'\n",
    "print(beauty_df.head(3))"
   ]
  },
  {
   "cell_type": "markdown",
   "metadata": {},
   "source": [
    "# For Loop 101 Home Scrape"
   ]
  },
  {
   "cell_type": "code",
   "execution_count": null,
   "metadata": {
    "collapsed": true,
    "jupyter": {
     "outputs_hidden": true
    }
   },
   "outputs": [],
   "source": [
    "home_names = []\n",
    "home_phones = []\n",
    "home_streets = []\n",
    "home_localities = []\n",
    "home_categories = []\n",
    "home = 'https://www.yellowpages.com/los-angeles-ca/home?page='\n",
    "home_pages = range(102)\n",
    "home_list = []\n",
    "for n in home_pages:\n",
    "    home_url = f'{home}{home_pages[n]}'\n",
    "    home_list.append(home_url)\n",
    "print(len(home_list))\n",
    "for page in home_list:\n",
    "    r = requests.get(page)\n",
    "    html_doc = r.text\n",
    "    soup = BeautifulSoup(html_doc)\n",
    "    organic_boxes = soup.find_all('div', class_ = 'info')\n",
    "    for i in organic_boxes:\n",
    "        if i.find('h2', class_ = 'n'):\n",
    "            home_names.append(i.find('h2', class_ = 'n').get_text())\n",
    "        else:\n",
    "            home_names.append('no_name')\n",
    "        if i.find('div', class_ = 'street-address'):\n",
    "            home_phones.append(i.find('div', class_ = 'phones phone primary'))\n",
    "        else:\n",
    "            home_phones.append('no_phone')\n",
    "        if i.find('div', class_ = 'street-address'):\n",
    "            home_streets.append(i.find('div', class_ = 'street-address').get_text())\n",
    "        else:\n",
    "            home_streets.append('no_street')\n",
    "        if i.find('div', class_ = 'locality'):\n",
    "            home_localities.append(i.find('div', class_ = 'locality').get_text())\n",
    "        else:\n",
    "            home_localities.append('no_locality')\n",
    "        if i.find('div', class_ = 'categories'):\n",
    "            home_categories.append(i.find('div', class_ = 'categories').get_text())\n",
    "        else:\n",
    "            home_categories.append('no_categories')\n",
    "home_zippedList = list(zip(home_names, home_phones, home_streets, home_localities, home_categories))\n",
    "home_df = pd.DataFrame(home_zippedList, columns=['Name', 'Phone', 'Address', 'Locality', 'Categories'])\n",
    "home_df['YP_Category'] = 'home'\n",
    "print(home_df.head(3))"
   ]
  },
  {
   "cell_type": "markdown",
   "metadata": {},
   "source": [
    "# For Loop 101 Pet Scrape"
   ]
  },
  {
   "cell_type": "code",
   "execution_count": 20,
   "metadata": {
    "collapsed": true,
    "jupyter": {
     "outputs_hidden": true
    }
   },
   "outputs": [
    {
     "name": "stdout",
     "output_type": "stream",
     "text": [
      "                             Name     Phone    Address     Locality  \\\n",
      "0               Cal Pet Crematory  no_phone  no_street  no_locality   \n",
      "1    1. Animal Acupuncture Center  no_phone  no_street  no_locality   \n",
      "2  2. Pasternak Veterinary Center  no_phone  no_street  no_locality   \n",
      "\n",
      "                                          Categories YP_Category  \n",
      "0                  Pet Cemetery Equipment & Supplies         pet  \n",
      "1                Pet StoresVeterinariansPet Services         pet  \n",
      "2  Pet ServicesAnimal Health ProductsVeterinary C...         pet  \n"
     ]
    }
   ],
   "source": [
    "pet_names = []\n",
    "pet_phones = []\n",
    "pet_streets = []\n",
    "pet_localities = []\n",
    "pet_categories = []\n",
    "pet = 'https://www.yellowpages.com/los-angeles-ca/pet?page='\n",
    "pet_pages = range(102)\n",
    "pet_list = []\n",
    "for n in pet_pages:\n",
    "    pet_url = f'{pet}{pet_pages[n]}'\n",
    "    pet_list.append(pet_url)\n",
    "for page in pet_list:\n",
    "    r = requests.get(page)\n",
    "    html_doc = r.text\n",
    "    soup = BeautifulSoup(html_doc)\n",
    "    organic_boxes = soup.find_all('div', class_ = 'info')\n",
    "    for i in organic_boxes:\n",
    "        if i.find('h2', class_ = 'n'):\n",
    "            pet_names.append(i.find('h2', class_ = 'n').get_text())\n",
    "        else:\n",
    "            pet_names.append('no_name')\n",
    "        if i.find('div', class_ = 'street-address'):\n",
    "            pet_phones.append(i.find('div', class_ = 'phones phone primary'))\n",
    "        else:\n",
    "            pet_phones.append('no_phone')\n",
    "        if i.find('div', class_ = 'street-address'):\n",
    "            pet_streets.append(i.find('div', class_ = 'street-address').get_text())\n",
    "        else:\n",
    "            pet_streets.append('no_street')\n",
    "        if i.find('div', class_ = 'locality'):\n",
    "            pet_localities.append(i.find('div', class_ = 'locality').get_text())\n",
    "        else:\n",
    "            pet_localities.append('no_locality')\n",
    "        if i.find('div', class_ = 'categories'):\n",
    "            pet_categories.append(i.find('div', class_ = 'categories').get_text())\n",
    "        else:\n",
    "            pet_categories.append('no_categories')\n",
    "pet_zippedList = list(zip(pet_names, pet_phones, pet_streets, pet_localities, pet_categories))\n",
    "pet_df = pd.DataFrame(pet_zippedList, columns=['Name', 'Phone', 'Address', 'Locality', 'Categories'])\n",
    "pet_df['YP_Category'] = 'pet'\n",
    "print(pet_df.head(3))"
   ]
  },
  {
   "cell_type": "markdown",
   "metadata": {},
   "source": [
    "# For Loop 101 Auto Scrape"
   ]
  },
  {
   "cell_type": "code",
   "execution_count": 21,
   "metadata": {},
   "outputs": [
    {
     "name": "stdout",
     "output_type": "stream",
     "text": [
      "                                        Name     Phone    Address  \\\n",
      "0             AdFirestone Complete Auto Care  no_phone  no_street   \n",
      "1  AdHarry's Automotive and Collision Repair  no_phone  no_street   \n",
      "2                  AdSanta Monica Volvo-Saab  no_phone  no_street   \n",
      "\n",
      "      Locality                         Categories YP_Category  \n",
      "0  no_locality  Auto Repair & ServiceTire Dealers        auto  \n",
      "1  no_locality              Auto Repair & Service        auto  \n",
      "2  no_locality              Auto Repair & Service        auto  \n"
     ]
    }
   ],
   "source": [
    "auto_names = []\n",
    "auto_phones = []\n",
    "auto_streets = []\n",
    "auto_localities = []\n",
    "auto_categories = []\n",
    "auto = 'https://www.yellowpages.com/los-angeles-ca/auto?page='\n",
    "auto_pages = range(102)\n",
    "auto_list = []\n",
    "for n in auto_pages:\n",
    "    auto_url = f'{auto}{auto_pages[n]}'\n",
    "    auto_list.append(auto_url)\n",
    "for page in auto_list:\n",
    "    r = requests.get(page)\n",
    "    html_doc = r.text\n",
    "    soup = BeautifulSoup(html_doc)\n",
    "    organic_boxes = soup.find_all('div', class_ = 'info')\n",
    "    for i in organic_boxes:\n",
    "        if i.find('h2', class_ = 'n'):\n",
    "            auto_names.append(i.find('h2', class_ = 'n').get_text())\n",
    "        else:\n",
    "            auto_names.append('no_name')\n",
    "        if i.find('div', class_ = 'street-address'):\n",
    "            auto_phones.append(i.find('div', class_ = 'phones phone primary'))\n",
    "        else:\n",
    "            auto_phones.append('no_phone')\n",
    "        if i.find('div', class_ = 'street-address'):\n",
    "            auto_streets.append(i.find('div', class_ = 'street-address').get_text())\n",
    "        else:\n",
    "            auto_streets.append('no_street')\n",
    "        if i.find('div', class_ = 'locality'):\n",
    "            auto_localities.append(i.find('div', class_ = 'locality').get_text())\n",
    "        else:\n",
    "            auto_localities.append('no_locality')\n",
    "        if i.find('div', class_ = 'categories'):\n",
    "            auto_categories.append(i.find('div', class_ = 'categories').get_text())\n",
    "        else:\n",
    "            auto_categories.append('no_categories')\n",
    "auto_zippedList = list(zip(auto_names, auto_phones, auto_streets, auto_localities, auto_categories))\n",
    "auto_df = pd.DataFrame(auto_zippedList, columns=['Name', 'Phone', 'Address', 'Locality', 'Categories'])\n",
    "auto_df['YP_Category'] = 'auto'\n",
    "print(auto_df.head(3))"
   ]
  },
  {
   "cell_type": "markdown",
   "metadata": {},
   "source": [
    "# For Loop 101 Medical Scrape"
   ]
  },
  {
   "cell_type": "code",
   "execution_count": 22,
   "metadata": {},
   "outputs": [
    {
     "name": "stdout",
     "output_type": "stream",
     "text": [
      "                 Name     Phone    Address     Locality          Categories  \\\n",
      "0  FPA Women's Health  no_phone  no_street  no_locality     Medical Clinics   \n",
      "1          1. Medical  no_phone  no_street  no_locality  Government Offices   \n",
      "2          2. Medical  no_phone  no_street  no_locality       no_categories   \n",
      "\n",
      "  YP_Category  \n",
      "0     medical  \n",
      "1     medical  \n",
      "2     medical  \n"
     ]
    }
   ],
   "source": [
    "medical_names = []\n",
    "medical_phones = []\n",
    "medical_streets = []\n",
    "medical_localities = []\n",
    "medical_categories = []\n",
    "medical = 'https://www.yellowpages.com/los-angeles-ca/medical?page='\n",
    "medical_pages = range(102)\n",
    "medical_list = []\n",
    "for n in medical_pages:\n",
    "    medical_url = f'{medical}{medical_pages[n]}'\n",
    "    medical_list.append(medical_url)\n",
    "for page in medical_list:\n",
    "    r = requests.get(page)\n",
    "    html_doc = r.text\n",
    "    soup = BeautifulSoup(html_doc)\n",
    "    organic_boxes = soup.find_all('div', class_ = 'info')\n",
    "    for i in organic_boxes:\n",
    "        if i.find('h2', class_ = 'n'):\n",
    "            medical_names.append(i.find('h2', class_ = 'n').get_text())\n",
    "        else:\n",
    "            medical_names.append('no_name')\n",
    "        if i.find('div', class_ = 'street-address'):\n",
    "            medical_phones.append(i.find('div', class_ = 'phones phone primary'))\n",
    "        else:\n",
    "            medical_phones.append('no_phone')\n",
    "        if i.find('div', class_ = 'street-address'):\n",
    "            medical_streets.append(i.find('div', class_ = 'street-address').get_text())\n",
    "        else:\n",
    "            medical_streets.append('no_street')\n",
    "        if i.find('div', class_ = 'locality'):\n",
    "            medical_localities.append(i.find('div', class_ = 'locality').get_text())\n",
    "        else:\n",
    "            medical_localities.append('no_locality')\n",
    "        if i.find('div', class_ = 'categories'):\n",
    "            medical_categories.append(i.find('div', class_ = 'categories').get_text())\n",
    "        else:\n",
    "            medical_categories.append('no_categories')\n",
    "medical_zippedList = list(zip(medical_names, medical_phones, medical_streets, medical_localities, medical_categories))\n",
    "medical_df = pd.DataFrame(medical_zippedList, columns=['Name', 'Phone', 'Address', 'Locality', 'Categories'])\n",
    "medical_df['YP_Category'] = 'medical'\n",
    "print(medical_df.head(3))"
   ]
  },
  {
   "cell_type": "code",
   "execution_count": 23,
   "metadata": {},
   "outputs": [
    {
     "name": "stdout",
     "output_type": "stream",
     "text": [
      "25434\n"
     ]
    }
   ],
   "source": [
    "yp_df = pd.concat([legal_df, insurance_df, restaurants_df, beauty_df, home_df, pet_df, auto_df, medical_df])\n",
    "print(len(yp_df))"
   ]
  },
  {
   "cell_type": "code",
   "execution_count": 24,
   "metadata": {
    "collapsed": true,
    "jupyter": {
     "outputs_hidden": true
    }
   },
   "outputs": [
    {
     "name": "stdout",
     "output_type": "stream",
     "text": [
      "                                Name  \\\n",
      "0        AdCommunity Legal Solutions   \n",
      "1                           1. Legal   \n",
      "2         2. Your Way Out Bail Bonds   \n",
      "3        3. Smyth & Smyth Law Office   \n",
      "4     4. Law Offices of Richard Fleg   \n",
      "5  5. Nagler George I Law Offices Of   \n",
      "6                 6. Gray Humberto R   \n",
      "7                  7. Yoon Law Group   \n",
      "8    8. Law Office of Richard Cherry   \n",
      "9        9. Mann Jeff Law Offices Of   \n",
      "\n",
      "                                               Phone  \\\n",
      "0                                           no_phone   \n",
      "1  <div class=\"phones phone primary\">(424) 298-84...   \n",
      "2  <div class=\"phones phone primary\">(805) 395-21...   \n",
      "3  <div class=\"phones phone primary\">(323) 847-29...   \n",
      "4  <div class=\"phones phone primary\">(310) 598-27...   \n",
      "5  <div class=\"phones phone primary\">(424) 394-02...   \n",
      "6  <div class=\"phones phone primary\">(310) 447-65...   \n",
      "7  <div class=\"phones phone primary\">(877) 892-96...   \n",
      "8  <div class=\"phones phone primary\">(323) 873-27...   \n",
      "9  <div class=\"phones phone primary\">(213) 480-19...   \n",
      "\n",
      "                             Address               Locality  \\\n",
      "0                          no_street            no_locality   \n",
      "1                  2476 Overland Ave  Los Angeles, CA 90064   \n",
      "2  1547 W Martin Luther King Jr Blvd  Los Angeles, CA 90062   \n",
      "3                 4929 Wilshire Blvd  Los Angeles, CA 90010   \n",
      "4                11600 Washington Pl  Los Angeles, CA 90066   \n",
      "5               11377 W Olympic Blvd  Los Angeles, CA 90064   \n",
      "6             11726 San Vicente Blvd  Los Angeles, CA 90049   \n",
      "7           624 S Grand Ave Ste 2200  Los Angeles, CA 90017   \n",
      "8         3055 Wilshire Blvd Ste 820  Los Angeles, CA 90010   \n",
      "9                 3600 Wilshire Blvd  Los Angeles, CA 90010   \n",
      "\n",
      "                                          Categories YP_Category  \n",
      "0            Legal ClinicsAttorneysDivorce Attorneys       Legal  \n",
      "1                                      no_categories       Legal  \n",
      "2  Financial ServicesBail Bond Referral ServiceBa...       Legal  \n",
      "3  General Practice AttorneysAttorneysEstate Plan...       Legal  \n",
      "4  AttorneysTransportation Law AttorneysProduct L...       Legal  \n",
      "5  AttorneysReal Estate AttorneysWills, Trusts & ...       Legal  \n",
      "6  AttorneysImmigration Law AttorneysImmigration ...       Legal  \n",
      "7  Sex Offense AttorneysCriminal Law AttorneysAtt...       Legal  \n",
      "8  Labor & Employment Law AttorneysLegal Service ...       Legal  \n",
      "9  Business Law AttorneysConstruction Law Attorne...       Legal  \n"
     ]
    }
   ],
   "source": [
    "print(yp_df.head(10))"
   ]
  },
  {
   "cell_type": "code",
   "execution_count": 25,
   "metadata": {},
   "outputs": [],
   "source": [
    "yp_df.to_csv('yp_scrape.csv')"
   ]
  },
  {
   "cell_type": "code",
   "execution_count": null,
   "metadata": {},
   "outputs": [],
   "source": []
  }
 ],
 "metadata": {
  "kernelspec": {
   "display_name": "Python 3",
   "language": "python",
   "name": "python3"
  },
  "language_info": {
   "codemirror_mode": {
    "name": "ipython",
    "version": 3
   },
   "file_extension": ".py",
   "mimetype": "text/x-python",
   "name": "python",
   "nbconvert_exporter": "python",
   "pygments_lexer": "ipython3",
   "version": "3.7.3"
  }
 },
 "nbformat": 4,
 "nbformat_minor": 4
}
